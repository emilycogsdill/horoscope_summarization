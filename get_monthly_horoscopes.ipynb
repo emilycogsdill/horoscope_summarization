{
 "cells": [
  {
   "cell_type": "markdown",
   "metadata": {},
   "source": [
    "# Get Monthly Horoscopes\n",
    "### Get text for a bunch of monthly horoscopes and save them to a file or something idk"
   ]
  },
  {
   "cell_type": "code",
   "execution_count": 6,
   "metadata": {},
   "outputs": [],
   "source": [
    "import requests\n",
    "from bs4 import BeautifulSoup"
   ]
  },
  {
   "cell_type": "code",
   "execution_count": 13,
   "metadata": {},
   "outputs": [],
   "source": [
    "# this strat will work if we find a source where the URLs are consistent except for sign/month/year\n",
    "url_base = 'SIGN-MONTHNAME-YEAR'\n",
    "signs = ['aquarius','scorpio','leo','sagittarius']\n",
    "months = ['january','february','march','april','may','june','july','september','october','november','december']\n",
    "years=['2020','2019']\n",
    "\n",
    "urls=[]\n",
    "for year in years:\n",
    "    for sign in signs:\n",
    "        for month in months:\n",
    "            url=url_base.replace('SIGN',sign).replace('MONTHNAME',month).replace('YEAR',year)\n",
    "            urls.append(q)"
   ]
  },
  {
   "cell_type": "code",
   "execution_count": 26,
   "metadata": {},
   "outputs": [],
   "source": [
    "def get_vice_monthly_horoscopes():\n",
    "    # used this to get URLs for monthly horoscopes lol\n",
    "    try: \n",
    "        from googlesearch import search \n",
    "    except ImportError:  \n",
    "        print(\"No module named 'google' found\") \n",
    "      \n",
    "    # to search \n",
    "    query = \"vice article monthly horoscope\"\n",
    "    \n",
    "    urls=[]\n",
    "    for j in search(query, tld=\"co.in\", num=100, stop=100, pause=2): \n",
    "        if 'vice.com/en/article/' in j and 'your' not in j:\n",
    "            urls.append(j)\n",
    "\n",
    "    return urls"
   ]
  },
  {
   "cell_type": "code",
   "execution_count": null,
   "metadata": {},
   "outputs": [],
   "source": [
    "urls = get_vice_monthly_horoscopes()"
   ]
  },
  {
   "cell_type": "code",
   "execution_count": null,
   "metadata": {},
   "outputs": [],
   "source": [
    "urls"
   ]
  }
 ],
 "metadata": {
  "kernelspec": {
   "display_name": "Python 3",
   "language": "python",
   "name": "python3"
  },
  "language_info": {
   "codemirror_mode": {
    "name": "ipython",
    "version": 3
   },
   "file_extension": ".py",
   "mimetype": "text/x-python",
   "name": "python",
   "nbconvert_exporter": "python",
   "pygments_lexer": "ipython3",
   "version": "3.8.6"
  }
 },
 "nbformat": 4,
 "nbformat_minor": 4
}
