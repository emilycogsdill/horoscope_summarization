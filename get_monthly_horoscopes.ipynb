{
 "cells": [
  {
   "cell_type": "markdown",
   "metadata": {},
   "source": [
    "# Get Monthly Horoscopes\n",
    "### Get text for a bunch of monthly horoscopes and save them to a file or something idk"
   ]
  },
  {
   "cell_type": "code",
   "execution_count": null,
   "metadata": {},
   "outputs": [],
   "source": [
    "import requests"
   ]
  },
  {
   "cell_type": "code",
   "execution_count": 4,
   "metadata": {},
   "outputs": [],
   "source": [
    "url_base = 'https://www.vice.com/en/article/epddvj/monthly-horoscope-SIGN-MONTHNAME-YEAR'\n",
    "signs = ['aquarius','scorpio','leo','sagittarius']\n",
    "months = ['january','february','march','april','may','june','july','september','october','november','december']\n",
    "years=['2020','2019']\n",
    "\n",
    "urls=[]\n",
    "for year in years:\n",
    "    for sign in signs:\n",
    "        for month in months:\n",
    "            url=url_base.replace('SIGN',sign).replace('MONTHNAME',month).replace('YEAR',year)\n",
    "            urls.append(url)"
   ]
  },
  {
   "cell_type": "code",
   "execution_count": 5,
   "metadata": {},
   "outputs": [
    {
     "data": {
      "text/plain": [
       "['https://www.vice.com/en/article/epddvj/monthly-horoscope-aquarius-january-2020',\n",
       " 'https://www.vice.com/en/article/epddvj/monthly-horoscope-aquarius-february-2020',\n",
       " 'https://www.vice.com/en/article/epddvj/monthly-horoscope-aquarius-march-2020',\n",
       " 'https://www.vice.com/en/article/epddvj/monthly-horoscope-aquarius-april-2020',\n",
       " 'https://www.vice.com/en/article/epddvj/monthly-horoscope-aquarius-may-2020',\n",
       " 'https://www.vice.com/en/article/epddvj/monthly-horoscope-aquarius-june-2020',\n",
       " 'https://www.vice.com/en/article/epddvj/monthly-horoscope-aquarius-july-2020',\n",
       " 'https://www.vice.com/en/article/epddvj/monthly-horoscope-aquarius-september-2020',\n",
       " 'https://www.vice.com/en/article/epddvj/monthly-horoscope-aquarius-october-2020',\n",
       " 'https://www.vice.com/en/article/epddvj/monthly-horoscope-aquarius-november-2020',\n",
       " 'https://www.vice.com/en/article/epddvj/monthly-horoscope-aquarius-december-2020',\n",
       " 'https://www.vice.com/en/article/epddvj/monthly-horoscope-scorpio-january-2020',\n",
       " 'https://www.vice.com/en/article/epddvj/monthly-horoscope-scorpio-february-2020',\n",
       " 'https://www.vice.com/en/article/epddvj/monthly-horoscope-scorpio-march-2020',\n",
       " 'https://www.vice.com/en/article/epddvj/monthly-horoscope-scorpio-april-2020',\n",
       " 'https://www.vice.com/en/article/epddvj/monthly-horoscope-scorpio-may-2020',\n",
       " 'https://www.vice.com/en/article/epddvj/monthly-horoscope-scorpio-june-2020',\n",
       " 'https://www.vice.com/en/article/epddvj/monthly-horoscope-scorpio-july-2020',\n",
       " 'https://www.vice.com/en/article/epddvj/monthly-horoscope-scorpio-september-2020',\n",
       " 'https://www.vice.com/en/article/epddvj/monthly-horoscope-scorpio-october-2020',\n",
       " 'https://www.vice.com/en/article/epddvj/monthly-horoscope-scorpio-november-2020',\n",
       " 'https://www.vice.com/en/article/epddvj/monthly-horoscope-scorpio-december-2020',\n",
       " 'https://www.vice.com/en/article/epddvj/monthly-horoscope-leo-january-2020',\n",
       " 'https://www.vice.com/en/article/epddvj/monthly-horoscope-leo-february-2020',\n",
       " 'https://www.vice.com/en/article/epddvj/monthly-horoscope-leo-march-2020',\n",
       " 'https://www.vice.com/en/article/epddvj/monthly-horoscope-leo-april-2020',\n",
       " 'https://www.vice.com/en/article/epddvj/monthly-horoscope-leo-may-2020',\n",
       " 'https://www.vice.com/en/article/epddvj/monthly-horoscope-leo-june-2020',\n",
       " 'https://www.vice.com/en/article/epddvj/monthly-horoscope-leo-july-2020',\n",
       " 'https://www.vice.com/en/article/epddvj/monthly-horoscope-leo-september-2020',\n",
       " 'https://www.vice.com/en/article/epddvj/monthly-horoscope-leo-october-2020',\n",
       " 'https://www.vice.com/en/article/epddvj/monthly-horoscope-leo-november-2020',\n",
       " 'https://www.vice.com/en/article/epddvj/monthly-horoscope-leo-december-2020',\n",
       " 'https://www.vice.com/en/article/epddvj/monthly-horoscope-sagittarius-january-2020',\n",
       " 'https://www.vice.com/en/article/epddvj/monthly-horoscope-sagittarius-february-2020',\n",
       " 'https://www.vice.com/en/article/epddvj/monthly-horoscope-sagittarius-march-2020',\n",
       " 'https://www.vice.com/en/article/epddvj/monthly-horoscope-sagittarius-april-2020',\n",
       " 'https://www.vice.com/en/article/epddvj/monthly-horoscope-sagittarius-may-2020',\n",
       " 'https://www.vice.com/en/article/epddvj/monthly-horoscope-sagittarius-june-2020',\n",
       " 'https://www.vice.com/en/article/epddvj/monthly-horoscope-sagittarius-july-2020',\n",
       " 'https://www.vice.com/en/article/epddvj/monthly-horoscope-sagittarius-september-2020',\n",
       " 'https://www.vice.com/en/article/epddvj/monthly-horoscope-sagittarius-october-2020',\n",
       " 'https://www.vice.com/en/article/epddvj/monthly-horoscope-sagittarius-november-2020',\n",
       " 'https://www.vice.com/en/article/epddvj/monthly-horoscope-sagittarius-december-2020',\n",
       " 'https://www.vice.com/en/article/epddvj/monthly-horoscope-aquarius-january-2019',\n",
       " 'https://www.vice.com/en/article/epddvj/monthly-horoscope-aquarius-february-2019',\n",
       " 'https://www.vice.com/en/article/epddvj/monthly-horoscope-aquarius-march-2019',\n",
       " 'https://www.vice.com/en/article/epddvj/monthly-horoscope-aquarius-april-2019',\n",
       " 'https://www.vice.com/en/article/epddvj/monthly-horoscope-aquarius-may-2019',\n",
       " 'https://www.vice.com/en/article/epddvj/monthly-horoscope-aquarius-june-2019',\n",
       " 'https://www.vice.com/en/article/epddvj/monthly-horoscope-aquarius-july-2019',\n",
       " 'https://www.vice.com/en/article/epddvj/monthly-horoscope-aquarius-september-2019',\n",
       " 'https://www.vice.com/en/article/epddvj/monthly-horoscope-aquarius-october-2019',\n",
       " 'https://www.vice.com/en/article/epddvj/monthly-horoscope-aquarius-november-2019',\n",
       " 'https://www.vice.com/en/article/epddvj/monthly-horoscope-aquarius-december-2019',\n",
       " 'https://www.vice.com/en/article/epddvj/monthly-horoscope-scorpio-january-2019',\n",
       " 'https://www.vice.com/en/article/epddvj/monthly-horoscope-scorpio-february-2019',\n",
       " 'https://www.vice.com/en/article/epddvj/monthly-horoscope-scorpio-march-2019',\n",
       " 'https://www.vice.com/en/article/epddvj/monthly-horoscope-scorpio-april-2019',\n",
       " 'https://www.vice.com/en/article/epddvj/monthly-horoscope-scorpio-may-2019',\n",
       " 'https://www.vice.com/en/article/epddvj/monthly-horoscope-scorpio-june-2019',\n",
       " 'https://www.vice.com/en/article/epddvj/monthly-horoscope-scorpio-july-2019',\n",
       " 'https://www.vice.com/en/article/epddvj/monthly-horoscope-scorpio-september-2019',\n",
       " 'https://www.vice.com/en/article/epddvj/monthly-horoscope-scorpio-october-2019',\n",
       " 'https://www.vice.com/en/article/epddvj/monthly-horoscope-scorpio-november-2019',\n",
       " 'https://www.vice.com/en/article/epddvj/monthly-horoscope-scorpio-december-2019',\n",
       " 'https://www.vice.com/en/article/epddvj/monthly-horoscope-leo-january-2019',\n",
       " 'https://www.vice.com/en/article/epddvj/monthly-horoscope-leo-february-2019',\n",
       " 'https://www.vice.com/en/article/epddvj/monthly-horoscope-leo-march-2019',\n",
       " 'https://www.vice.com/en/article/epddvj/monthly-horoscope-leo-april-2019',\n",
       " 'https://www.vice.com/en/article/epddvj/monthly-horoscope-leo-may-2019',\n",
       " 'https://www.vice.com/en/article/epddvj/monthly-horoscope-leo-june-2019',\n",
       " 'https://www.vice.com/en/article/epddvj/monthly-horoscope-leo-july-2019',\n",
       " 'https://www.vice.com/en/article/epddvj/monthly-horoscope-leo-september-2019',\n",
       " 'https://www.vice.com/en/article/epddvj/monthly-horoscope-leo-october-2019',\n",
       " 'https://www.vice.com/en/article/epddvj/monthly-horoscope-leo-november-2019',\n",
       " 'https://www.vice.com/en/article/epddvj/monthly-horoscope-leo-december-2019',\n",
       " 'https://www.vice.com/en/article/epddvj/monthly-horoscope-sagittarius-january-2019',\n",
       " 'https://www.vice.com/en/article/epddvj/monthly-horoscope-sagittarius-february-2019',\n",
       " 'https://www.vice.com/en/article/epddvj/monthly-horoscope-sagittarius-march-2019',\n",
       " 'https://www.vice.com/en/article/epddvj/monthly-horoscope-sagittarius-april-2019',\n",
       " 'https://www.vice.com/en/article/epddvj/monthly-horoscope-sagittarius-may-2019',\n",
       " 'https://www.vice.com/en/article/epddvj/monthly-horoscope-sagittarius-june-2019',\n",
       " 'https://www.vice.com/en/article/epddvj/monthly-horoscope-sagittarius-july-2019',\n",
       " 'https://www.vice.com/en/article/epddvj/monthly-horoscope-sagittarius-september-2019',\n",
       " 'https://www.vice.com/en/article/epddvj/monthly-horoscope-sagittarius-october-2019',\n",
       " 'https://www.vice.com/en/article/epddvj/monthly-horoscope-sagittarius-november-2019',\n",
       " 'https://www.vice.com/en/article/epddvj/monthly-horoscope-sagittarius-december-2019']"
      ]
     },
     "execution_count": 5,
     "metadata": {},
     "output_type": "execute_result"
    }
   ],
   "source": [
    "urls"
   ]
  }
 ],
 "metadata": {
  "kernelspec": {
   "display_name": "Python 3",
   "language": "python",
   "name": "python3"
  },
  "language_info": {
   "codemirror_mode": {
    "name": "ipython",
    "version": 3
   },
   "file_extension": ".py",
   "mimetype": "text/x-python",
   "name": "python",
   "nbconvert_exporter": "python",
   "pygments_lexer": "ipython3",
   "version": "3.8.6"
  }
 },
 "nbformat": 4,
 "nbformat_minor": 4
}
