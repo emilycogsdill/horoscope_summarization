{
 "cells": [
  {
   "cell_type": "markdown",
   "metadata": {},
   "source": [
    "# Summarization Science\n",
    "\n",
    "## Should we use Xsum or CNN? What min- and max-length parameters should we use?\n",
    "\n",
    "***SPOILER ALERT*** the winner is Xsum with min_length=50.\n",
    "\n",
    "(For tweeting purposes, will need to do some try-except logic to reduce length if needed.)\n",
    "\n",
    "### here is a long diggity dang monthly horoscope to summarize:\n",
    "\n",
    "Welcome to Scorpio season, dear Aquarius! The sun is lighting up the sector of your chart that rules your career and life in public, and reward and recognition are sure to come your way! You’re famously an inventive genius, but it’s not just your brilliance that wins your success; it’s your tenacity and focus on achieving the results you’re looking for, and Scorpio season supports you in exactly that. Mercury retrograde in Libra clashes with your ruling planet Saturn, currently in Capricorn, on November 1, and will do so again on November 6, after Mercury ends its retrograde on November 3. The end of Mercury retrograde means we can finally move forward with conversations that have been brewing over the last few weeks, especially regarding travel, education, and your career. You’re figuring out that there’s some information missing, and need to make some changes to get everything together. This can be frustrating, since there are more delays than you’d like to deal with, but at least things are meeting a standard. You’re thinking back to September 23 as Mercury clashes with Saturn, struggling with similar delays in communication or a heavy mental atmosphere. Venus in Libra has found you having some philosophical breakthroughs, and as it opposes Mars retrograde on November 9, you’re ready to have some intense conversations. You might be admitting your feelings for someone or simply sharing your beliefs with a friend. The sun connects with mystical Neptune in Pisces on November 10, bringing a whimsical, imaginative energy, and a boost of abundance. When Netpune’s involved, resources accumulate over time. Mercury enters Scorpio on November 10, kicking up communication about your career—this is a great time to update your résumé or to make it public. Jupiter meets Pluto in Capricorn for the third and final time this year on November 12. Think back to April 4 and June 30, as similar breakthroughs are taking place. This also begins a new spiritual journey for you, Aquarius—profound messages may arrive in your dreams, making this a powerful time to start a dream journal. This is also a brilliant time for therapy and for shadow work, as you’re ready to explore unknown parts of yourself . It may feel like there’s a lot happening at once and like there’s no information about how things will end up, so stay present in your body, don’t rush to making decisions, and most importantly, reach out for help!"
   ]
  },
  {
   "cell_type": "code",
   "execution_count": 6,
   "metadata": {},
   "outputs": [],
   "source": [
    "# Monthly horoscope - https://www.vice.com/en/article/epddvj/monthly-horoscope-aquarius-november-2020\n",
    "text = '''Welcome to Scorpio season, dear Aquarius! The sun is lighting up the sector of your chart that rules your career and life in public, and reward and recognition are sure to come your way! You’re famously an inventive genius, but it’s not just your brilliance that wins your success; it’s your tenacity and focus on achieving the results you’re looking for, and Scorpio season supports you in exactly that. Mercury retrograde in Libra clashes with your ruling planet Saturn, currently in Capricorn, on November 1, and will do so again on November 6, after Mercury ends its retrograde on November 3. The end of Mercury retrograde means we can finally move forward with conversations that have been brewing over the last few weeks, especially regarding travel, education, and your career. You’re figuring out that there’s some information missing, and need to make some changes to get everything together. This can be frustrating, since there are more delays than you’d like to deal with, but at least things are meeting a standard. You’re thinking back to September 23 as Mercury clashes with Saturn, struggling with similar delays in communication or a heavy mental atmosphere. Venus in Libra has found you having some philosophical breakthroughs, and as it opposes Mars retrograde on November 9, you’re ready to have some intense conversations. You might be admitting your feelings for someone or simply sharing your beliefs with a friend. The sun connects with mystical Neptune in Pisces on November 10, bringing a whimsical, imaginative energy, and a boost of abundance. When Netpune’s involved, resources accumulate over time. Mercury enters Scorpio on November 10, kicking up communication about your career—this is a great time to update your résumé or to make it public. Jupiter meets Pluto in Capricorn for the third and final time this year on November 12. Think back to April 4 and June 30, as similar breakthroughs are taking place. This also begins a new spiritual journey for you, Aquarius—profound messages may arrive in your dreams, making this a powerful time to start a dream journal. This is also a brilliant time for therapy and for shadow work, as you’re ready to explore unknown parts of yourself . It may feel like there’s a lot happening at once and like there’s no information about how things will end up, so stay present in your body, don’t rush to making decisions, and most importantly, reach out for help!'''"
   ]
  },
  {
   "cell_type": "code",
   "execution_count": 11,
   "metadata": {},
   "outputs": [],
   "source": [
    "from transformers import pipeline, AutoTokenizer, AutoModelForSeq2SeqLM, AutoModel"
   ]
  },
  {
   "cell_type": "markdown",
   "metadata": {},
   "source": [
    "# Xsum\n",
    "\n",
    "https://huggingface.co/facebook/bart-large-xsum"
   ]
  },
  {
   "cell_type": "code",
   "execution_count": 23,
   "metadata": {},
   "outputs": [
    {
     "name": "stdout",
     "output_type": "stream",
     "text": [
      "loading xsum model...\n",
      "loading xsum tokenizer...\n",
      "creating xsum summarizer...\n"
     ]
    }
   ],
   "source": [
    "print(\"loading xsum model...\")\n",
    "xsum_model = AutoModelForSeq2SeqLM.from_pretrained(\"facebook/bart-large-xsum\")\n",
    "print(\"loading xsum tokenizer...\")\n",
    "xsum_tokenizer = AutoTokenizer.from_pretrained(\"facebook/bart-large-xsum\")\n",
    "print(\"creating xsum summarizer...\")\n",
    "xsum_summarizer = pipeline(\"summarization\", model=xsum_model, tokenizer=xsum_tokenizer)"
   ]
  },
  {
   "cell_type": "code",
   "execution_count": 24,
   "metadata": {},
   "outputs": [
    {
     "name": "stdout",
     "output_type": "stream",
     "text": [
      "summarizing with Xsum...\n",
      "Xsum summary: \n",
      "\n",
      "If you’ve been struggling with delays in communication or a heavy mental atmosphere over the last few weeks, things are about to improve.\n",
      "\n",
      "\n",
      "\n"
     ]
    }
   ],
   "source": [
    "print(\"summarizing with Xsum...\")\n",
    "xsum_result = xsum_summarizer(text, min_length=5, max_length=100)\n",
    "print(\"Xsum summary: \\n\")\n",
    "print(xsum_result[0]['summary_text'])\n",
    "print(\"\\n\\n\")"
   ]
  },
  {
   "cell_type": "markdown",
   "metadata": {},
   "source": [
    "# CNN\n",
    "\n",
    "https://huggingface.co/facebook/bart-large-cnn"
   ]
  },
  {
   "cell_type": "code",
   "execution_count": 25,
   "metadata": {},
   "outputs": [
    {
     "name": "stdout",
     "output_type": "stream",
     "text": [
      "loading cnn model...\n",
      "loading cnn tokenizer...\n",
      "creating cnn summarizer...\n"
     ]
    }
   ],
   "source": [
    "print(\"loading cnn model...\")\n",
    "cnn_model = AutoModelForSeq2SeqLM.from_pretrained(\"facebook/bart-large-cnn\")\n",
    "print(\"loading cnn tokenizer...\")\n",
    "cnn_tokenizer = AutoTokenizer.from_pretrained(\"facebook/bart-large-cnn\")\n",
    "print(\"creating cnn summarizer...\")\n",
    "cnn_summarizer = pipeline(\"summarization\", model=cnn_model, tokenizer=cnn_tokenizer)"
   ]
  },
  {
   "cell_type": "code",
   "execution_count": 43,
   "metadata": {},
   "outputs": [
    {
     "name": "stdout",
     "output_type": "stream",
     "text": [
      "summarizing with CNN...\n",
      "Large CNN summary: \n",
      "\n",
      "The sun is lighting up the sector of your chart that rules your career and life in public. Mercury retrograde in Libra clashes with your ruling planet Saturn, currently in Capricorn, on November 1. The sun connects with mystical Neptune in Pisces on November 10, bringing a whimsical, imaginative energy, and a boost of abundance.\n",
      "\n",
      "\n",
      "\n"
     ]
    }
   ],
   "source": [
    "print(\"summarizing with CNN...\")\n",
    "cnn_result = cnn_summarizer(text, min_length=5, max_length=100)\n",
    "print(\"Large CNN summary: \\n\")\n",
    "print(cnn_result[0]['summary_text'])\n",
    "print(\"\\n\\n\")"
   ]
  },
  {
   "cell_type": "code",
   "execution_count": 28,
   "metadata": {},
   "outputs": [
    {
     "name": "stdout",
     "output_type": "stream",
     "text": [
      "The sun is lighting up the sector of your chart that rules your career and life in public. Mercury retrograde in Libra clashes with your ruling planet Saturn, currently in Capricorn, on November 1. The sun connects with mystical Neptune in Pisces on November 10, bringing a whimsical, imaginative energy, and a boost of abundance.\n"
     ]
    }
   ],
   "source": [
    "print(summarize(cnn_summarizer,text,40,200))"
   ]
  },
  {
   "cell_type": "markdown",
   "metadata": {},
   "source": [
    "# SCIENCE wow\n",
    "\n",
    "What do the two summarizers produce with different min/max length parameters?\n",
    "\n",
    "Which one is more *ultra spiritual?*"
   ]
  },
  {
   "cell_type": "code",
   "execution_count": 27,
   "metadata": {},
   "outputs": [],
   "source": [
    "from summarizer_utils import *"
   ]
  },
  {
   "cell_type": "markdown",
   "metadata": {},
   "source": [
    "### fun with CNN"
   ]
  },
  {
   "cell_type": "code",
   "execution_count": 30,
   "metadata": {},
   "outputs": [
    {
     "name": "stdout",
     "output_type": "stream",
     "text": [
      "\n",
      "min_length = 10, max_length=200\n",
      "The sun is lighting up the sector of your chart that rules your career and life in public. Mercury retrograde in Libra clashes with your ruling planet Saturn, currently in Capricorn, on November 1. The sun connects with mystical Neptune in Pisces on November 10, bringing a whimsical, imaginative energy, and a boost of abundance.\n",
      "\n",
      "min_length = 30, max_length=200\n",
      "The sun is lighting up the sector of your chart that rules your career and life in public. Mercury retrograde in Libra clashes with your ruling planet Saturn, currently in Capricorn, on November 1. The sun connects with mystical Neptune in Pisces on November 10, bringing a whimsical, imaginative energy, and a boost of abundance.\n",
      "\n",
      "min_length = 50, max_length=200\n",
      "The sun is lighting up the sector of your chart that rules your career and life in public. Mercury retrograde in Libra clashes with your ruling planet Saturn, currently in Capricorn, on November 1. The sun connects with mystical Neptune in Pisces on November 10, bringing a whimsical, imaginative energy, and a boost of abundance.\n",
      "\n",
      "min_length = 70, max_length=200\n",
      "The sun is lighting up the sector of your chart that rules your career and life in public. You’re figuring out that there’s some information missing, and need to make some changes to get everything together. Venus in Libra has found you having some philosophical breakthroughs. The sun connects with mystical Neptune in Pisces on November 10, bringing a whimsical, imaginative energy.\n",
      "\n",
      "min_length = 90, max_length=200\n",
      "The sun is lighting up the sector of your chart that rules your career and life in public. You’re figuring out that there’s some information missing, and need to make some changes to get everything together. Venus in Libra has found you having some philosophical breakthroughs. The sun connects with mystical Neptune in Pisces on November 10, bringing a whimsical, imaginative energy, and a boost of abundance. Jupiter meets Pluto in Capricorn for the third and final time this year on November 12.\n",
      "\n",
      "min_length = 110, max_length=200\n",
      "The sun is lighting up the sector of your chart that rules your career and life in public. You’re figuring out that there’s some information missing, and need to make some changes to get everything together. Venus in Libra has found you having some philosophical breakthroughs. The sun connects with mystical Neptune in Pisces on November 10, bringing a whimsical, imaginative energy, and a boost of abundance. This is also a brilliant time for therapy and for shadow work, as you're ready to explore unknown parts of yourself.\n",
      "\n",
      "min_length = 130, max_length=200\n",
      "The sun is lighting up the sector of your chart that rules your career and life in public. You’re figuring out that there’s some information missing, and need to make some changes to get everything together. Venus in Libra has found you having some philosophical breakthroughs. The sun connects with mystical Neptune in Pisces on November 10, bringing a whimsical, imaginative energy, and a boost of abundance. Jupiter meets Pluto in Capricorn for the third and final time this year on November 12. This also begins a new spiritual journey for you, Aquarius—profound messages may arrive in your dreams, making this a powerful time to start a dream journal.\n",
      "\n",
      "min_length = 150, max_length=200\n",
      "The sun is lighting up the sector of your chart that rules your career and life in public. You’re figuring out that there’s some information missing, and need to make some changes to get everything together. Venus in Libra has found you having some philosophical breakthroughs. The sun connects with mystical Neptune in Pisces on November 10, bringing a whimsical, imaginative energy, and a boost of abundance. Jupiter meets Pluto in Capricorn for the third and final time this year on November 12. This also begins a new spiritual journey for you, Aquarius—profound messages may arrive in your dreams, making this a powerful time to start a dream journal. The end of Mercury retrograde means we can finally move forward with conversations that have been brewing over the last few weeks.\n",
      "\n",
      "min_length = 170, max_length=200\n",
      "The sun is lighting up the sector of your chart that rules your career and life in public. You’re figuring out that there’s some information missing, and need to make some changes to get everything together. Venus in Libra has found you having some philosophical breakthroughs. The sun connects with mystical Neptune in Pisces on November 10, bringing a whimsical, imaginative energy, and a boost of abundance. Jupiter meets Pluto in Capricorn for the third and final time this year on November 12. This also begins a new spiritual journey for you, Aquarius—profound messages may arrive in your dreams, making this a powerful time to start a dream journal. The end of Mercury retrograde means we can finally move forward with conversations that have been brewing over the last few weeks, especially regarding travel, education, and your career.\n"
     ]
    }
   ],
   "source": [
    "i=10\n",
    "while i<=180:\n",
    "    print(\"\")\n",
    "    print(f\"min_length = {i}, max_length=200\")\n",
    "    print(summarize(cnn_summarizer,text,i,200))\n",
    "    i+=20"
   ]
  },
  {
   "cell_type": "code",
   "execution_count": 39,
   "metadata": {},
   "outputs": [
    {
     "name": "stdout",
     "output_type": "stream",
     "text": [
      "\n",
      "min_length = 10, max_length=60\n",
      "The sun is lighting up the sector of your chart that rules your career and life in public. You’re figuring out that there’s some information missing, and need to make some changes to get everything together. Venus in Libra has found you having some philosophical breakthroughs\n",
      "\n",
      "min_length = 10, max_length=50\n",
      "The sun is lighting up the sector of your chart that rules your career and life in public. Mercury retrograde in Libra clashes with your ruling planet Saturn, currently in Capricorn, on November 1, and will do so again\n",
      "\n",
      "min_length = 10, max_length=40\n",
      "The sun is lighting up the sector of your chart that rules your career and life in public. Mercury retrograde in Libra clashes with your ruling planet Saturn, currently in Capricorn\n",
      "\n",
      "min_length = 10, max_length=30\n",
      "The sun is lighting up the sector of your chart that rules your career and life in public. Mercury retrograde in Libra clashes with\n",
      "\n",
      "min_length = 10, max_length=20\n",
      "The sun is lighting up the sector of your chart that rules your career and life in\n"
     ]
    }
   ],
   "source": [
    "i=60\n",
    "while i>=20:\n",
    "    print(\"\")\n",
    "    print(f\"min_length = 10, max_length={i}\")\n",
    "    print(summarize(cnn_summarizer,text,10,i))\n",
    "    i-=10"
   ]
  },
  {
   "cell_type": "code",
   "execution_count": 40,
   "metadata": {},
   "outputs": [
    {
     "name": "stdout",
     "output_type": "stream",
     "text": [
      "The sun is lighting up the sector of your chart that rules your career and life in public. Mercury retrograde in Libra clashes with your ruling planet Saturn, currently in Capricorn, on November 1. The sun connects with mystical Neptune in Pisces on November 10, bringing a whimsical, imaginative energy, and a boost of abundance.\n"
     ]
    }
   ],
   "source": [
    "print(summarize(cnn_summarizer,text,5,100))"
   ]
  },
  {
   "cell_type": "markdown",
   "metadata": {},
   "source": [
    "## fun with xsum"
   ]
  },
  {
   "cell_type": "code",
   "execution_count": 42,
   "metadata": {},
   "outputs": [
    {
     "name": "stdout",
     "output_type": "stream",
     "text": [
      "\n",
      "min_length = 10, max_length=200\n",
      "If you’ve been struggling with delays in communication or a heavy mental atmosphere over the last few weeks, things are about to improve.\n",
      "\n",
      "min_length = 30, max_length=200\n",
      "If you’ve been struggling with delays in communication or a heavy mental atmosphere over the last few weeks, things are about to get a whole lot easier.\n",
      "\n",
      "min_length = 50, max_length=200\n",
      "If you’ve been struggling with delays in communication or a heavy mental atmosphere over the last few weeks, you might want to take a look at your horoscope for November, as Mercury retrograde in Libra is about to come to an end.\n",
      "\n",
      "min_length = 70, max_length=200\n",
      "If you’ve been struggling with delays in communication or a heavy mental atmosphere over the last few weeks, you might want to take a look at your horoscope for November, as Mercury retrograde in Libra is about to come to an end and the sun enters Scorpio, the sign that rules your career and life in public, and Neptune in Pisces begins a new spiritual journey.\n",
      "\n",
      "min_length = 90, max_length=200\n",
      "If you’ve been struggling with delays in communication or a heavy mental atmosphere over the last few weeks, you might want to take a look at your horoscope for November, as Mercury retrograde in Libra is about to come to an end and the sun enters Scorpio, the sign that rules your career and life in public, and it’s a great time to update your résumé or to make a public announcement!\n",
      "\n",
      "min_length = 110, max_length=200\n",
      "If you’ve been struggling with delays in communication or a heavy mental atmosphere over the last few weeks, you might want to take a look at your horoscope for November, as Mercury retrograde in Libra is about to come to an end and the sun enters Scorpio, the sign that rules your career and life in public, and it’s a great time to update your résumé or to make a public declaration of your success, Aquarius. and here are some other astrological tips for the coming weeks.\n",
      "\n",
      "min_length = 130, max_length=200\n",
      "If you’ve been struggling with delays in communication or a heavy mental atmosphere over the last few weeks, you might want to take a look at your horoscope for November, as Mercury retrograde in Libra is about to come to an end and the sun enters Scorpio, the sign that rules your career and life in public, and it’s a great time to update your résumé or to make a public declaration of your success, Aquarius. and here are some other astrological tips for the coming weeks. and months. the next few weeks. the end of Mercury Retrograde inLibra, November 3.\n",
      "\n",
      "min_length = 150, max_length=200\n",
      "If you’ve been struggling with delays in communication or a heavy mental atmosphere over the last few weeks, you might want to take a look at your horoscope for November, as Mercury retrograde in Libra is about to come to an end and the sun enters Scorpio, the sign that rules your career and life in public, and it’s a great time to update your résumé or to make a public declaration of your success, Aquarius. and here are some other astrological tips for the coming weeks. and months. the next few weeks. the end of Mercury Retrograde inLibra, November 3, and November 10, and the beginning of Scorpio season, November 10-12, 2017.\n",
      "\n",
      "min_length = 170, max_length=200\n",
      "If you’ve been struggling with delays in communication or a heavy mental atmosphere over the last few weeks, you might want to take a look at your horoscope for November, as Mercury retrograde in Libra is about to come to an end and the sun enters Scorpio, the sign that rules your career and life in public, and it’s a great time to update your résumé or to make a public declaration of your success, Aquarius. and here are some other astrological tips for the coming weeks. and months. the next few weeks. the end of Mercury Retrograde inLibra, November 3, and November 10, and the beginning of Scorpio season, November 10-12. the third and final time this year that Mercury is in Capricorn, both of which are in Scorpio.\n",
      "\n",
      "min_length = 10, max_length=60\n",
      "If you’ve been struggling with delays in communication or a heavy mental atmosphere over the last few weeks, things are about to improve.\n",
      "\n",
      "min_length = 10, max_length=50\n",
      "If you’ve been struggling with delays in communication or a heavy mental atmosphere over the last few weeks, things are about to improve.\n",
      "\n",
      "min_length = 10, max_length=40\n",
      "If you’ve been struggling with delays in communication or a heavy mental atmosphere over the last few weeks, things are about to improve.\n",
      "\n",
      "min_length = 10, max_length=30\n",
      "If you’ve been struggling with delays in communication or a heavy mental atmosphere over the last few weeks, things are about to improve.\n",
      "\n",
      "min_length = 10, max_length=20\n",
      "If you’ve been struggling with delays in communication or a heavy mental atmosphere over the\n"
     ]
    }
   ],
   "source": [
    "i=10\n",
    "while i<=180:\n",
    "    print(\"\")\n",
    "    print(f\"min_length = {i}, max_length=200\")\n",
    "    print(summarize(xsum_summarizer,text,i,200))\n",
    "    i+=20\n",
    "    \n",
    "i=60\n",
    "while i>=20:\n",
    "    print(\"\")\n",
    "    print(f\"min_length = 10, max_length={i}\")\n",
    "    print(summarize(xsum_summarizer,text,10,i))\n",
    "    i-=10"
   ]
  },
  {
   "cell_type": "code",
   "execution_count": 41,
   "metadata": {},
   "outputs": [
    {
     "name": "stdout",
     "output_type": "stream",
     "text": [
      "If you’ve been struggling with delays in communication or a heavy mental atmosphere over the last few weeks, things are about to improve.\n"
     ]
    }
   ],
   "source": [
    "print(summarize(xsum_summarizer,text,5,100))"
   ]
  }
 ],
 "metadata": {
  "kernelspec": {
   "display_name": "Python 3",
   "language": "python",
   "name": "python3"
  },
  "language_info": {
   "codemirror_mode": {
    "name": "ipython",
    "version": 3
   },
   "file_extension": ".py",
   "mimetype": "text/x-python",
   "name": "python",
   "nbconvert_exporter": "python",
   "pygments_lexer": "ipython3",
   "version": "3.8.6"
  }
 },
 "nbformat": 4,
 "nbformat_minor": 4
}
