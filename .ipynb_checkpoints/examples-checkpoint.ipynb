{
 "cells": [
  {
   "cell_type": "markdown",
   "metadata": {},
   "source": [
    "# Let's summarize a long monthly horoscope\n",
    "\n",
    "Welcome to Scorpio season, dear Aquarius! The sun is lighting up the sector of your chart that rules your career and life in public, and reward and recognition are sure to come your way! You’re famously an inventive genius, but it’s not just your brilliance that wins your success; it’s your tenacity and focus on achieving the results you’re looking for, and Scorpio season supports you in exactly that. Mercury retrograde in Libra clashes with your ruling planet Saturn, currently in Capricorn, on November 1, and will do so again on November 6, after Mercury ends its retrograde on November 3. The end of Mercury retrograde means we can finally move forward with conversations that have been brewing over the last few weeks, especially regarding travel, education, and your career. You’re figuring out that there’s some information missing, and need to make some changes to get everything together. This can be frustrating, since there are more delays than you’d like to deal with, but at least things are meeting a standard. You’re thinking back to September 23 as Mercury clashes with Saturn, struggling with similar delays in communication or a heavy mental atmosphere. Venus in Libra has found you having some philosophical breakthroughs, and as it opposes Mars retrograde on November 9, you’re ready to have some intense conversations. You might be admitting your feelings for someone or simply sharing your beliefs with a friend. The sun connects with mystical Neptune in Pisces on November 10, bringing a whimsical, imaginative energy, and a boost of abundance. When Netpune’s involved, resources accumulate over time. Mercury enters Scorpio on November 10, kicking up communication about your career—this is a great time to update your résumé or to make it public. Jupiter meets Pluto in Capricorn for the third and final time this year on November 12. Think back to April 4 and June 30, as similar breakthroughs are taking place. This also begins a new spiritual journey for you, Aquarius—profound messages may arrive in your dreams, making this a powerful time to start a dream journal. This is also a brilliant time for therapy and for shadow work, as you’re ready to explore unknown parts of yourself . It may feel like there’s a lot happening at once and like there’s no information about how things will end up, so stay present in your body, don’t rush to making decisions, and most importantly, reach out for help!"
   ]
  },
  {
   "cell_type": "code",
   "execution_count": 6,
   "metadata": {},
   "outputs": [],
   "source": [
    "# Monthly horoscope - https://www.vice.com/en/article/epddvj/monthly-horoscope-aquarius-november-2020\n",
    "text = '''Welcome to Scorpio season, dear Aquarius! The sun is lighting up the sector of your chart that rules your career and life in public, and reward and recognition are sure to come your way! You’re famously an inventive genius, but it’s not just your brilliance that wins your success; it’s your tenacity and focus on achieving the results you’re looking for, and Scorpio season supports you in exactly that. Mercury retrograde in Libra clashes with your ruling planet Saturn, currently in Capricorn, on November 1, and will do so again on November 6, after Mercury ends its retrograde on November 3. The end of Mercury retrograde means we can finally move forward with conversations that have been brewing over the last few weeks, especially regarding travel, education, and your career. You’re figuring out that there’s some information missing, and need to make some changes to get everything together. This can be frustrating, since there are more delays than you’d like to deal with, but at least things are meeting a standard. You’re thinking back to September 23 as Mercury clashes with Saturn, struggling with similar delays in communication or a heavy mental atmosphere. Venus in Libra has found you having some philosophical breakthroughs, and as it opposes Mars retrograde on November 9, you’re ready to have some intense conversations. You might be admitting your feelings for someone or simply sharing your beliefs with a friend. The sun connects with mystical Neptune in Pisces on November 10, bringing a whimsical, imaginative energy, and a boost of abundance. When Netpune’s involved, resources accumulate over time. Mercury enters Scorpio on November 10, kicking up communication about your career—this is a great time to update your résumé or to make it public. Jupiter meets Pluto in Capricorn for the third and final time this year on November 12. Think back to April 4 and June 30, as similar breakthroughs are taking place. This also begins a new spiritual journey for you, Aquarius—profound messages may arrive in your dreams, making this a powerful time to start a dream journal. This is also a brilliant time for therapy and for shadow work, as you’re ready to explore unknown parts of yourself . It may feel like there’s a lot happening at once and like there’s no information about how things will end up, so stay present in your body, don’t rush to making decisions, and most importantly, reach out for help!'''"
   ]
  },
  {
   "cell_type": "code",
   "execution_count": 11,
   "metadata": {},
   "outputs": [],
   "source": [
    "from transformers import pipeline, AutoTokenizer, AutoModelForSeq2SeqLM, AutoModel"
   ]
  },
  {
   "cell_type": "markdown",
   "metadata": {},
   "source": [
    "# Xsum"
   ]
  },
  {
   "cell_type": "code",
   "execution_count": null,
   "metadata": {},
   "outputs": [
    {
     "name": "stdout",
     "output_type": "stream",
     "text": [
      "loading xsum model...\n"
     ]
    }
   ],
   "source": [
    "print(\"loading xsum model...\")\n",
    "xsum_model = AutoModelForSeq2SeqLM.from_pretrained(\"facebook/bart-large-xsum\")\n",
    "print(\"loading xsum tokenizer...\")\n",
    "xsum_tokenizer = AutoTokenizer.from_pretrained(\"facebook/bart-large-xsum\")\n",
    "print(\"creating xsum summarizer...\")\n",
    "xsum_summarizer = pipeline(\"summarization\", model=xsum_model, tokenizer=xsum_tokenizer)"
   ]
  },
  {
   "cell_type": "code",
   "execution_count": null,
   "metadata": {},
   "outputs": [],
   "source": [
    "print(\"summarizing with Xsum...\")\n",
    "xsum_result = xsum_summarizer(text, min_length=5, max_length=100)\n",
    "print(\"Xsum summary: \\n\")\n",
    "print(xsum_result[0]['summary_text'])\n",
    "print(\"\\n\\n\")"
   ]
  },
  {
   "cell_type": "markdown",
   "metadata": {},
   "source": [
    "# CNN"
   ]
  },
  {
   "cell_type": "code",
   "execution_count": null,
   "metadata": {},
   "outputs": [],
   "source": [
    "print(\"loading cnn model...\")\n",
    "cnn_model = AutoModelForSeq2SeqLM.from_pretrained(\"facebook/bart-large-cnn\")\n",
    "print(\"loading cnn tokenizer...\")\n",
    "cnn_tokenizer = AutoTokenizer.from_pretrained(\"facebook/bart-large-cnn\")\n",
    "print(\"creating cnn summarizer...\")\n",
    "cnn_summarizer = pipeline(\"summarization\", model=cnn_model, tokenizer=cnn_tokenizer)"
   ]
  },
  {
   "cell_type": "code",
   "execution_count": null,
   "metadata": {},
   "outputs": [],
   "source": [
    "print(\"summarizing with CNN...\")\n",
    "cnn_result = summarizer(text, min_length=5, max_length=100)\n",
    "print(\"Large CNN summary: \\n\")\n",
    "print(cnn_result[0]['summary_text'])\n",
    "print(\"\\n\\n\")"
   ]
  }
 ],
 "metadata": {
  "kernelspec": {
   "display_name": "Python 3",
   "language": "python",
   "name": "python3"
  },
  "language_info": {
   "codemirror_mode": {
    "name": "ipython",
    "version": 3
   },
   "file_extension": ".py",
   "mimetype": "text/x-python",
   "name": "python",
   "nbconvert_exporter": "python",
   "pygments_lexer": "ipython3",
   "version": "3.8.6"
  }
 },
 "nbformat": 4,
 "nbformat_minor": 4
}
